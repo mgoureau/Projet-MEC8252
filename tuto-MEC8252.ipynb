{
 "cells": [
  {
   "cell_type": "markdown",
   "id": "e5381278",
   "metadata": {},
   "source": [
    "# Tutoriel Cantera"
   ]
  },
  {
   "cell_type": "code",
   "execution_count": 4,
   "id": "f8401a36",
   "metadata": {},
   "outputs": [],
   "source": [
    "import numpy as np\n",
    "import matplotlib.pyplot as plt\n",
    "import cantera as ct\n",
    "from math import *\n",
    "import time"
   ]
  },
  {
   "cell_type": "code",
   "execution_count": 5,
   "id": "2b61ff1f",
   "metadata": {},
   "outputs": [
    {
     "name": "stdout",
     "output_type": "stream",
     "text": [
      "La commande gas() affiche les caractéristiques détaillées du mélange dans l'êtat actuel\n",
      "\n",
      "  gas:\n",
      "\n",
      "       temperature   2500 K\n",
      "          pressure   1.0132e+06 Pa\n",
      "           density   2.1453 kg/m^3\n",
      "  mean mol. weight   44.009 kg/kmol\n",
      "   phase of matter   gas\n",
      "\n",
      "                          1 kg             1 kmol     \n",
      "                     ---------------   ---------------\n",
      "          enthalpy       -6.1715e+06        -2.716e+08  J\n",
      "   internal energy       -6.6439e+06       -2.9239e+08  J\n",
      "           entropy            6900.8         3.037e+05  J/K\n",
      "    Gibbs function       -2.3424e+07       -1.0309e+09  J\n",
      " heat capacity c_p            1398.6             61549  J/K\n",
      " heat capacity c_v            1209.6             53234  J/K\n",
      "\n",
      "                      mass frac. Y      mole frac. X     chem. pot. / RT\n",
      "                     ---------------   ---------------   ---------------\n",
      "               CO2                 1                 1           -49.593\n",
      "     [   +2 minor]                 0                 0  \n",
      "\n"
     ]
    }
   ],
   "source": [
    "# Chargement du mécanisme utilisé par cantera\n",
    "gas = ct.Solution('mech_pb1-2.yaml')  # Objet cantera représentant le mélange étudié\n",
    "gas.basis=\"molar\"                     # Commande pour indiquer dans quelle base on se place, \"molar\" ou \"mass\"\n",
    "\n",
    "# Quelques définitions de variables pour cantera\n",
    "R = ct.gas_constant*1e-3              # Constante des gaz parfaits [J/mol/K]\n",
    "T0 = 2500                             # Température initiale du mélange [K]\n",
    "P = 10*ct.one_atm                    # Pression dans laquelle se trouve le mélange [Pa]\n",
    "\n",
    "# Initialisation du mélange pour cantera : T=température, P=pression, X=composition molaire du mélange\n",
    "gas.TPX = T0, P, \"CO2:1\"\n",
    "\n",
    "print(\"La commande gas() affiche les caractéristiques détaillées du mélange dans l'êtat actuel\")\n",
    "gas()"
   ]
  },
  {
   "cell_type": "code",
   "execution_count": 6,
   "id": "4b309daa",
   "metadata": {},
   "outputs": [
    {
     "name": "stdout",
     "output_type": "stream",
     "text": [
      "\n",
      "  gas:\n",
      "\n",
      "       temperature   2500 K\n",
      "          pressure   1.0133e+06 Pa\n",
      "           density   2.0807 kg/m^3\n",
      "  mean mol. weight   42.684 kg/kmol\n",
      "   phase of matter   gas\n",
      "\n",
      "                          1 kg             1 kmol     \n",
      "                     ---------------   ---------------\n",
      "          enthalpy       -5.7831e+06       -2.4685e+08  J\n",
      "   internal energy       -6.2701e+06       -2.6763e+08  J\n",
      "           entropy            7074.1        3.0195e+05  J/K\n",
      "    Gibbs function       -2.3468e+07       -1.0017e+09  J\n",
      " heat capacity c_p            1391.2             59380  J/K\n",
      " heat capacity c_v            1196.4             51066  J/K\n",
      "\n",
      "                      mass frac. Y      mole frac. X     chem. pot. / RT\n",
      "                     ---------------   ---------------   ---------------\n",
      "                CO          0.039522          0.060226           -34.302\n",
      "               CO2            0.9379           0.90966           -49.688\n",
      "                O2          0.022574          0.030113           -30.772\n",
      "\n",
      "A température et pression constante, la quantitée de CO2 dissocié à l'équilibre est 0.0620\n"
     ]
    }
   ],
   "source": [
    "# Initialisation du mélange pour cantera : T=température, P=pression, X=composition molaire du mélange\n",
    "gas.TPX = T0, P, \"CO2:1\"\n",
    "\n",
    "# On fait évoluer le mélange jusqu'à son état final à température et pression constante\n",
    "gas.equilibrate(\"TP\")\n",
    "gas()\n",
    "\n",
    "# Récupération de la fraction molaire de CO dans l'objet gas\n",
    "alpha = gas.X[gas.species_index(\"CO\")]                 # Fraction molaire de CO2 dissociée\n",
    "n_tot = 1 + alpha/2                                    # Quantité de matière totale dans le système à l'équilibre chimique\n",
    "\n",
    "print(\"A température et pression constante, la quantitée de CO2 dissocié à l'équilibre est {:.4f}\".format(alpha*n_tot))"
   ]
  },
  {
   "cell_type": "code",
   "execution_count": 7,
   "id": "ec6fd6ff",
   "metadata": {},
   "outputs": [
    {
     "name": "stdout",
     "output_type": "stream",
     "text": [
      "\n",
      "  gas:\n",
      "\n",
      "       temperature   2343.2 K\n",
      "          pressure   1.0133e+06 Pa\n",
      "           density   2.2496 kg/m^3\n",
      "  mean mol. weight   43.255 kg/kmol\n",
      "   phase of matter   gas\n",
      "\n",
      "                          1 kg             1 kmol     \n",
      "                     ---------------   ---------------\n",
      "          enthalpy       -6.1715e+06       -2.6695e+08  J\n",
      "   internal energy        -6.622e+06       -2.8643e+08  J\n",
      "           entropy            6913.8        2.9906e+05  J/K\n",
      "    Gibbs function       -2.2372e+07        -9.677e+08  J\n",
      " heat capacity c_p            1388.1             60041  J/K\n",
      " heat capacity c_v            1195.9             51726  J/K\n",
      "\n",
      "                      mass frac. Y      mole frac. X     chem. pot. / RT\n",
      "                     ---------------   ---------------   ---------------\n",
      "                CO          0.022196          0.034276           -34.989\n",
      "               CO2           0.96513           0.94859           -50.536\n",
      "                O2          0.012678          0.017138           -31.094\n",
      "\n",
      "A enthalpie et pression constante, la quantitée de CO2 dissocié à l'équilibre est 0.0349\n"
     ]
    }
   ],
   "source": [
    "# Initialisation du mélange pour cantera : T=température, P=pression, X=composition molaire du mélange\n",
    "gas.TPX = T0, P, \"CO2:1\"\n",
    "\n",
    "# On fait évoluer le mélange jusqu'à son état final à enthalpie et pression constante\n",
    "gas.equilibrate(\"HP\")\n",
    "gas()\n",
    "\n",
    "# Récupération de la fraction molaire de CO dans l'objet gas\n",
    "alpha = gas.X[gas.species_index(\"CO\")]                 # Fraction molaire de CO2 dissociée\n",
    "n_tot = 1 + alpha/2                                    # Quantité de matière totale dans le système à l'équilibre chimique\n",
    "\n",
    "print(\"A enthalpie et pression constante, la quantitée de CO2 dissocié à l'équilibre est {:.4f}\".format(alpha*n_tot))"
   ]
  },
  {
   "cell_type": "code",
   "execution_count": null,
   "id": "74831d04",
   "metadata": {},
   "outputs": [],
   "source": []
  }
 ],
 "metadata": {
  "kernelspec": {
   "display_name": "Python 3 (ipykernel)",
   "language": "python",
   "name": "python3"
  },
  "language_info": {
   "codemirror_mode": {
    "name": "ipython",
    "version": 3
   },
   "file_extension": ".py",
   "mimetype": "text/x-python",
   "name": "python",
   "nbconvert_exporter": "python",
   "pygments_lexer": "ipython3",
   "version": "3.9.13"
  },
  "toc-autonumbering": true,
  "toc-showcode": false
 },
 "nbformat": 4,
 "nbformat_minor": 5
}
