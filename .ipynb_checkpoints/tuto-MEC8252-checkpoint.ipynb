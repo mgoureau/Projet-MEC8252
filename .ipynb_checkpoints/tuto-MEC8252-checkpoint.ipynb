{
 "cells": [
  {
   "cell_type": "markdown",
   "id": "e5381278",
   "metadata": {},
   "source": [
    "# Tutoriel Cantera"
   ]
  },
  {
   "cell_type": "code",
   "execution_count": null,
   "id": "f8401a36",
   "metadata": {},
   "outputs": [],
   "source": [
    "import numpy as np\n",
    "import matplotlib.pyplot as plt\n",
    "import cantera as ct\n",
    "from math import *\n",
    "import time"
   ]
  },
  {
   "cell_type": "code",
   "execution_count": 2,
   "id": "2b61ff1f",
   "metadata": {},
   "outputs": [
    {
     "ename": "NameError",
     "evalue": "name 'ct' is not defined",
     "output_type": "error",
     "traceback": [
      "\u001b[0;31m---------------------------------------------------------------------------\u001b[0m",
      "\u001b[0;31mNameError\u001b[0m                                 Traceback (most recent call last)",
      "Input \u001b[0;32mIn [2]\u001b[0m, in \u001b[0;36m<cell line: 2>\u001b[0;34m()\u001b[0m\n\u001b[1;32m      1\u001b[0m \u001b[38;5;66;03m# Chargement du mécanisme utilisé par cantera\u001b[39;00m\n\u001b[0;32m----> 2\u001b[0m gas \u001b[38;5;241m=\u001b[39m \u001b[43mct\u001b[49m\u001b[38;5;241m.\u001b[39mSolution(\u001b[38;5;124m'\u001b[39m\u001b[38;5;124mmech_pb1-2.yaml\u001b[39m\u001b[38;5;124m'\u001b[39m)  \u001b[38;5;66;03m# Objet cantera représentant le mélange étudié\u001b[39;00m\n\u001b[1;32m      3\u001b[0m gas\u001b[38;5;241m.\u001b[39mbasis\u001b[38;5;241m=\u001b[39m\u001b[38;5;124m\"\u001b[39m\u001b[38;5;124mmolar\u001b[39m\u001b[38;5;124m\"\u001b[39m                     \u001b[38;5;66;03m# Commande pour indiquer dans quelle base on se place, \"molar\" ou \"mass\"\u001b[39;00m\n\u001b[1;32m      5\u001b[0m \u001b[38;5;66;03m# Quelques définitions de variables pour cantera\u001b[39;00m\n",
      "\u001b[0;31mNameError\u001b[0m: name 'ct' is not defined"
     ]
    }
   ],
   "source": [
    "# Chargement du mécanisme utilisé par cantera\n",
    "gas = ct.Solution('mech_pb1-2.yaml')  # Objet cantera représentant le mélange étudié\n",
    "gas.basis=\"molar\"                     # Commande pour indiquer dans quelle base on se place, \"molar\" ou \"mass\"\n",
    "\n",
    "# Quelques définitions de variables pour cantera\n",
    "R = ct.gas_constant*1e-3              # Constante des gaz parfaits [J/mol/K]\n",
    "T0 = 2500                             # Température initiale du mélange [K]\n",
    "P = 10*ct.one_atm                    # Pression dans laquelle se trouve le mélange [Pa]\n",
    "\n",
    "# Initialisation du mélange pour cantera : T=température, P=pression, X=composition molaire du mélange\n",
    "gas.TPX = T0, P, \"CO2:1\"\n",
    "\n",
    "print(\"La commande gas() affiche les caractéristiques détaillées du mélange dans l'êtat actuel\")\n",
    "gas()"
   ]
  },
  {
   "cell_type": "code",
   "execution_count": null,
   "id": "4b309daa",
   "metadata": {},
   "outputs": [],
   "source": [
    "# Initialisation du mélange pour cantera : T=température, P=pression, X=composition molaire du mélange\n",
    "gas.TPX = T0, P, \"CO2:1\"\n",
    "\n",
    "# On fait évoluer le mélange jusqu'à son état final à température et pression constante\n",
    "gas.equilibrate(\"TP\")\n",
    "gas()\n",
    "\n",
    "# Récupération de la fraction molaire de CO dans l'objet gas\n",
    "alpha = gas.X[gas.species_index(\"CO\")]                 # Fraction molaire de CO2 dissociée\n",
    "n_tot = 1 + alpha/2                                    # Quantité de matière totale dans le système à l'équilibre chimique\n",
    "\n",
    "print(\"A température et pression constante, la quantitée de CO2 dissocié à l'équilibre est {:.4f}\".format(alpha*n_tot))"
   ]
  },
  {
   "cell_type": "code",
   "execution_count": null,
   "id": "ec6fd6ff",
   "metadata": {},
   "outputs": [],
   "source": [
    "# Initialisation du mélange pour cantera : T=température, P=pression, X=composition molaire du mélange\n",
    "gas.TPX = T0, P, \"CO2:1\"\n",
    "\n",
    "# On fait évoluer le mélange jusqu'à son état final à enthalpie et pression constante\n",
    "gas.equilibrate(\"HP\")\n",
    "gas()\n",
    "\n",
    "# Récupération de la fraction molaire de CO dans l'objet gas\n",
    "alpha = gas.X[gas.species_index(\"CO\")]                 # Fraction molaire de CO2 dissociée\n",
    "n_tot = 1 + alpha/2                                    # Quantité de matière totale dans le système à l'équilibre chimique\n",
    "\n",
    "print(\"A enthalpie et pression constante, la quantitée de CO2 dissocié à l'équilibre est {:.4f}\".format(alpha*n_tot))"
   ]
  }
 ],
 "metadata": {
  "kernelspec": {
   "display_name": "Python 3 (ipykernel)",
   "language": "python",
   "name": "python3"
  },
  "language_info": {
   "codemirror_mode": {
    "name": "ipython",
    "version": 3
   },
   "file_extension": ".py",
   "mimetype": "text/x-python",
   "name": "python",
   "nbconvert_exporter": "python",
   "pygments_lexer": "ipython3",
   "version": "3.9.13"
  },
  "toc-autonumbering": true,
  "toc-showcode": false
 },
 "nbformat": 4,
 "nbformat_minor": 5
}
