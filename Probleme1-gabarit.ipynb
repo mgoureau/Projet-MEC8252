{
 "cells": [
  {
   "cell_type": "markdown",
   "id": "81a44ff3",
   "metadata": {},
   "source": [
    "# Problème 1 : Equilibre de dissociation du CO2 à T et P constants\n",
    "\n",
    "#### numéro d'équipe : 2\n",
    "#### Nom, prénom et matricule des membres:\n",
    "####    - Brahic Lucas\n",
    "####    - Dodier Gabriel\n",
    "####    - Goureau Mathieu"
   ]
  },
  {
   "cell_type": "code",
   "execution_count": null,
   "id": "f8401a36",
   "metadata": {},
   "outputs": [],
   "source": [
    "import numpy as np\n",
    "import matplotlib.pyplot as plt\n",
    "import cantera as ct\n",
    "from math import*"
   ]
  },
  {
   "cell_type": "markdown",
   "id": "6f854d40",
   "metadata": {},
   "source": [
    "### Fonctions fournies pour la résolution du problème"
   ]
  },
  {
   "cell_type": "code",
   "execution_count": null,
   "id": "107da9b5",
   "metadata": {},
   "outputs": [],
   "source": [
    "def calc_frac_mol(N):\n",
    "    \"\"\"\n",
    "    Renvoie une liste contenant les fractions molaires du mélange.\n",
    "    \n",
    "    N: liste des quantités de matière de chaque espèce dans le mélange (même ordre que species)\n",
    "    \"\"\"\n",
    "    return N/np.sum(N)\n",
    "    \n",
    "\n",
    "def format_X_cantera(species, X):\n",
    "    \"\"\"\n",
    "    Renvoie une string contenant les fractions molaires du mélange formatée pour cantera.\n",
    "    \n",
    "    species : liste des strings des espèces dans le mélange\n",
    "    N: liste des quantités de matière de chaque espèce (même ordre que species)\n",
    "    \"\"\"\n",
    "    for i, sp in enumerate(species):\n",
    "        if i==0:\n",
    "            X_cant = \"{}:{}\".format(species[i], X[i])\n",
    "        else:\n",
    "            X_cant = X_cant + \", {}:{}\".format(species[i], X[i])\n",
    "\n",
    "    return X_cant\n",
    "\n",
    "def calc_thermoprop_mix(gas, species, N, T, P):\n",
    "    \"\"\"\n",
    "    Renvoie l'énergie interne (U), l'enthalpie (H), l'entropie (S) et l'enthalpie libre/fonction de Gibbs (G) du mélange\n",
    "    avec la composition chimique N, à la température T et la pression P.\n",
    "    \n",
    "    gas : objet cantera représentant le mélange étudié\n",
    "    species : liste des strings des espèces dans le mélange\n",
    "    N : liste des quantités de matière de chaque espèce dans le mélange (même ordre que species)\n",
    "    T : température du mélange\n",
    "    P : pression du mélange\n",
    "    \"\"\"\n",
    "    \n",
    "    # Calcul des fraction molaires\n",
    "    X = calc_frac_mol(N)\n",
    "    \n",
    "    # Formattage pour cantera\n",
    "    X_cant = format_X_cantera(species, X)\n",
    "    \n",
    "    # Initialisation des paramètres du mélange\n",
    "    gas.TPX = T, P, X_cant\n",
    "    \n",
    "    # Calcul des variables thermochimiques (penser aux unités)\n",
    "    N_tot = # à remplir                     # Quantité de matière totale du mélange\n",
    "    U = gas.u*1e-3*N_tot                    # Energie interne du mélange [J]\n",
    "    H = gas.h*1e-3*N_tot                    # Enthalpie du mélange [J]\n",
    "    S = gas.s*1e-3*N_tot                    # Entropie du mélange [J/K]\n",
    "    G = gas.g*1e-3*N_tot                    # Enthalpie libre/fonction de Gibbs du mélange [J]\n",
    "    \n",
    "    return [U, H, S, G]"
   ]
  },
  {
   "cell_type": "markdown",
   "id": "db08b8c6",
   "metadata": {},
   "source": [
    "### Code principal"
   ]
  },
  {
   "cell_type": "code",
   "execution_count": null,
   "id": "bf9e4239-5d6c-4015-8196-1937b28ee48e",
   "metadata": {},
   "outputs": [],
   "source": [
    "%%time\n",
    "gas=ct.Solution(\"mech_pb1-2.yaml\")\n",
    "gas.basis=\"molar\"\n",
    "\n",
    "# Paramètres du problème (à compléter)\n",
    "T0 = 2500                                # Température initiale [K]\n",
    "P = 10*ct.one_atm                                # Pression [Pa]\n",
    "species = # à remplir                           # Liste des espèces dans le mélange\n",
    "alpha_arr = np.arange(0, 1.00001, 0.001)        # Array des alpha\n",
    "\n",
    "# arrays pour l'affichage\n",
    "u_arr = np.zeros(alpha_arr.shape)\n",
    "h_arr = np.zeros(alpha_arr.shape)\n",
    "s_arr = np.zeros(alpha_arr.shape)\n",
    "g_arr = np.zeros(alpha_arr.shape)\n",
    "for i_a, a in enumerate(alpha_arr):\n",
    "    # Composition du mélange\n",
    "    N = # à remplir                                  # Liste des quantités de matière des espèces du mélange\n",
    "    \n",
    "    # Récupération des variables thermochimiques du mélange\n",
    "    [u_arr[i_a], h_arr[i_a], s_arr[i_a], g_arr[i_a]] = calc_thermoprop_mix(gas, species, N, T0, P)\n",
    "\n",
    "alpha_calc = # à remplir\n",
    "\n",
    "print(\"A l'équilibre, la fraction de CO2 dissocié trouvé par minimisation de la fonction de Gibbs est {}\".format(alpha_calc))"
   ]
  },
  {
   "cell_type": "markdown",
   "id": "6072b023",
   "metadata": {},
   "source": [
    "### Affichage des résultats"
   ]
  },
  {
   "cell_type": "code",
   "execution_count": null,
   "id": "0600b33a",
   "metadata": {},
   "outputs": [],
   "source": [
    "# Gestion de l'affichage des résultats avec Matplotlib\n",
    "fig, axs = plt.subplots(2, 2, figsize=(9,6), dpi=100)\n",
    "\n",
    "axs[0,0].plot(alpha_arr, u_arr*1e-3)\n",
    "#axs[0,0].set_title(\"u [J/mol de CO2 initiale]\")\n",
    "axs[0,0].set_ylabel(\"u [kJ/mol de CO2 initiale]\")\n",
    "axs[0,0].set_xlabel(r\"quantité dissociée $\\alpha$\")\n",
    "axs[0,0].axvline(alpha_eq, color=\"red\", linestyle=\"--\")\n",
    "\n",
    "axs[0,1].plot(alpha_arr, h_arr*1e-3)\n",
    "axs[0,1].set_ylabel(\"h [kJ/mol de CO2 initiale]\")\n",
    "axs[0,1].set_xlabel(r\"quantité dissociée $\\alpha$\")\n",
    "axs[0,1].axvline(alpha_eq, color=\"red\", linestyle=\"--\")\n",
    "\n",
    "axs[1,0].plot(alpha_arr, g_arr*1e-3)\n",
    "axs[1,0].set_ylabel(\"g [kJ/mol de CO2 initiale]\")\n",
    "axs[1,0].set_xlabel(r\"quantité dissociée $\\alpha$\")\n",
    "axs[1,0].axvline(alpha_eq, color=\"red\", linestyle=\"--\")\n",
    "\n",
    "axs[1,1].plot(alpha_arr, s_arr*1e-3)\n",
    "axs[1,1].set_ylabel(\"s [kJ/mol de CO2 initiale/K]\")\n",
    "axs[1,1].set_xlabel(r\"quantité dissociée $\\alpha$\")\n",
    "axs[1,1].axvline(alpha_eq, color=\"red\", linestyle=\"--\")\n",
    "\n",
    "fig.suptitle(\"Problème 1\")\n",
    "fig.tight_layout()\n",
    "plt.show()"
   ]
  },
  {
   "cell_type": "markdown",
   "id": "73062a7a",
   "metadata": {},
   "source": [
    "### Comparaison avec la résolution direct par Cantera"
   ]
  },
  {
   "cell_type": "code",
   "execution_count": null,
   "id": "2b61ff1f",
   "metadata": {},
   "outputs": [],
   "source": [
    "%%time\n",
    "# Résultat avec cantera pour faire une comparaison\n",
    "gas=ct.Solution(\"mech_pb1-2.yaml\")\n",
    "gas.basis=\"molar\"\n",
    "\n",
    "# Paramètres du problème\n",
    "T0 = 2500                                           # Température initiale [K]\n",
    "P = 10*ct.one_atm                                   # Pression [Pa]\n",
    "\n",
    "# Initialisation du mélange pour cantera : T=température, P=pression, X=composition molaire du mélange\n",
    "gas.TPX = T0, P, \"CO2:1\"\n",
    "\n",
    "# On fait évoluer le mélange jusqu'à son état final à température et pression constante\n",
    "gas.equilibrate(\"TP\")\n",
    "\n",
    "# Récupération de la fraction molaire de CO dans l'objet gas\n",
    "alpha = gas.X[gas.species_index(\"CO\")]                 # Fraction molaire de CO2 dissociée\n",
    "n_tot = 1 + alpha/2                                    # Quantité de matière totale dans le système à l'équilibre chimique\n",
    "\n",
    "print(\"A l'équilibre, la quantité de CO2 dissocié trouvée par cantera est {:.4f}\".format(alpha*n_tot))"
   ]
  },
  {
   "cell_type": "code",
   "execution_count": null,
   "id": "2e8844fc",
   "metadata": {},
   "outputs": [],
   "source": []
  }
 ],
 "metadata": {
  "kernelspec": {
   "display_name": "Python 3.6.9 ('minfo')",
   "language": "python",
   "name": "python3"
  },
  "language_info": {
   "codemirror_mode": {
    "name": "ipython",
    "version": 3
   },
   "file_extension": ".py",
   "mimetype": "text/x-python",
   "name": "python",
   "nbconvert_exporter": "python",
   "pygments_lexer": "ipython3",
   "version": "3.6.9"
  },
  "toc-autonumbering": true,
  "toc-showcode": false,
  "vscode": {
   "interpreter": {
    "hash": "ac7f97fb0fb92aee6847cfa97da80001ff203c3215da2ab4d6f86db03ed88239"
   }
  }
 },
 "nbformat": 4,
 "nbformat_minor": 5
}
